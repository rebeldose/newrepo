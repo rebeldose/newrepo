{
  "nbformat": 4,
  "nbformat_minor": 0,
  "metadata": {
    "colab": {
      "name": "Untitled9.ipynb",
      "provenance": [],
      "authorship_tag": "ABX9TyPt3YlsJxX+VmC3MoCWfOZg",
      "include_colab_link": true
    },
    "kernelspec": {
      "name": "python3",
      "display_name": "Python 3"
    }
  },
  "cells": [
    {
      "cell_type": "markdown",
      "metadata": {
        "id": "view-in-github",
        "colab_type": "text"
      },
      "source": [
        "<a href=\"https://colab.research.google.com/github/rebeldose/newrepo/blob/master/classifying%203s%20and%207s.ipynb\" target=\"_parent\"><img src=\"https://colab.research.google.com/assets/colab-badge.svg\" alt=\"Open In Colab\"/></a>"
      ]
    },
    {
      "cell_type": "code",
      "metadata": {
        "id": "gCSeIgI2JWOW"
      },
      "source": [
        "!pip install -Uqq fastbook\r\n",
        "import fastbook\r\n",
        "fastbook.setup_book()"
      ],
      "execution_count": 5,
      "outputs": []
    },
    {
      "cell_type": "code",
      "metadata": {
        "scrolled": false,
        "id": "FzfoFY9SBku3"
      },
      "source": [
        "\n",
        "from fastai.vision.all import*\n",
        "from fastbook import*\n",
        "matplotlib.rc('image',cmap='Greys')"
      ],
      "execution_count": 9,
      "outputs": []
    },
    {
      "cell_type": "code",
      "metadata": {
        "id": "tsjMxmN3LLQG"
      },
      "source": [
        "path = untar_data(URLs.MNIST_SAMPLE)"
      ],
      "execution_count": 11,
      "outputs": []
    },
    {
      "cell_type": "code",
      "metadata": {
        "id": "dPBIGICQOkbS"
      },
      "source": [
        "Path.BASE_PATH = path"
      ],
      "execution_count": 12,
      "outputs": []
    },
    {
      "cell_type": "code",
      "metadata": {
        "colab": {
          "base_uri": "https://localhost:8080/"
        },
        "id": "ybBkEDWoO1dP",
        "outputId": "9d8152b3-28ef-42d3-b9c1-b37ef2b3c3e7"
      },
      "source": [
        "path.ls()"
      ],
      "execution_count": 13,
      "outputs": [
        {
          "output_type": "execute_result",
          "data": {
            "text/plain": [
              "(#3) [Path('labels.csv'),Path('valid'),Path('train')]"
            ]
          },
          "metadata": {
            "tags": []
          },
          "execution_count": 13
        }
      ]
    },
    {
      "cell_type": "code",
      "metadata": {
        "colab": {
          "base_uri": "https://localhost:8080/"
        },
        "id": "u6mEwmYEO4Co",
        "outputId": "f8e81192-a2df-49f8-eb30-de829159b41f"
      },
      "source": [
        "(path/'train').ls()"
      ],
      "execution_count": 14,
      "outputs": [
        {
          "output_type": "execute_result",
          "data": {
            "text/plain": [
              "(#2) [Path('train/7'),Path('train/3')]"
            ]
          },
          "metadata": {
            "tags": []
          },
          "execution_count": 14
        }
      ]
    },
    {
      "cell_type": "code",
      "metadata": {
        "id": "hMIjuqERRwLC"
      },
      "source": [
        "path.ls??\r\n"
      ],
      "execution_count": 17,
      "outputs": []
    },
    {
      "cell_type": "code",
      "metadata": {
        "colab": {
          "base_uri": "https://localhost:8080/"
        },
        "id": "w8Qc1by5SMbR",
        "outputId": "b9bf0e34-9626-411d-ae35-4d85ba772cad"
      },
      "source": [
        "threes = (path/'train'/'3').ls().sorted()\r\n",
        "sevens = (path/'train'/'7').ls().sorted()\r\n",
        "threes"
      ],
      "execution_count": 18,
      "outputs": [
        {
          "output_type": "execute_result",
          "data": {
            "text/plain": [
              "(#6131) [Path('train/3/10.png'),Path('train/3/10000.png'),Path('train/3/10011.png'),Path('train/3/10031.png'),Path('train/3/10034.png'),Path('train/3/10042.png'),Path('train/3/10052.png'),Path('train/3/1007.png'),Path('train/3/10074.png'),Path('train/3/10091.png')...]"
            ]
          },
          "metadata": {
            "tags": []
          },
          "execution_count": 18
        }
      ]
    },
    {
      "cell_type": "code",
      "metadata": {
        "colab": {
          "base_uri": "https://localhost:8080/",
          "height": 45
        },
        "id": "dLz_KlzWSvkV",
        "outputId": "10f4cabd-0725-4e29-9d4b-c281f8666842"
      },
      "source": [
        "Image.open(threes[1])"
      ],
      "execution_count": 22,
      "outputs": [
        {
          "output_type": "execute_result",
          "data": {
            "image/png": "[encoded data removed]",
            "text/plain": [
              "<PIL.PngImagePlugin.PngImageFile image mode=L size=28x28 at 0x7F742F50DDA0>"
            ]
          },
          "metadata": {
            "tags": []
          },
          "execution_count": 22
        }
      ]
    },
    {
      "cell_type": "code",
      "metadata": {
        "colab": {
          "base_uri": "https://localhost:8080/",
          "height": 45
        },
        "id": "1Cbp06w-TLkB",
        "outputId": "52f7c341-ed71-4b28-83cd-0460de8b59fd"
      },
      "source": [
        "p=Image.open(sevens[8])\r\n",
        "q=Image.open(sevens[2])\r\n",
        "p"
      ],
      "execution_count": 32,
      "outputs": [
        {
          "output_type": "execute_result",
          "data": {
            "image/png": "[encoded data removed]",
            "text/plain": [
              "<PIL.PngImagePlugin.PngImageFile image mode=L size=28x28 at 0x7F742F4D8748>"
            ]
          },
          "metadata": {
            "tags": []
          },
          "execution_count": 32
        }
      ]
    },
    {
      "cell_type": "code",
      "metadata": {
        "colab": {
          "base_uri": "https://localhost:8080/",
          "height": 45
        },
        "id": "LAqeOE8jTc5y",
        "outputId": "d6e7b17c-7266-4aa4-cbc3-44042f1b7d8e"
      },
      "source": [
        "q"
      ],
      "execution_count": 33,
      "outputs": [
        {
          "output_type": "execute_result",
          "data": {
            "image/png": "[encoded data removed]",
            "text/plain": [
              "<PIL.PngImagePlugin.PngImageFile image mode=L size=28x28 at 0x7F742F4D8940>"
            ]
          },
          "metadata": {
            "tags": []
          },
          "execution_count": 33
        }
      ]
    },
    {
      "cell_type": "code",
      "metadata": {
        "colab": {
          "base_uri": "https://localhost:8080/"
        },
        "id": "ocK94TU3UFGn",
        "outputId": "85f90a12-eacf-4b54-f4c5-79d440c9c7f5"
      },
      "source": [
        "tensor(q)[4:10,4:10]"
      ],
      "execution_count": 39,
      "outputs": [
        {
          "output_type": "execute_result",
          "data": {
            "text/plain": [
              "tensor([[  0,   0,   0,   0,   0,   0],\n",
              "        [  0,   0,   0,   0,   0,   0],\n",
              "        [  0,   0,   0,   0,   0,  13],\n",
              "        [  0,  93, 185, 185, 185, 207],\n",
              "        [  0, 253, 254, 254, 254, 253],\n",
              "        [  0, 128, 254, 233, 103,  70]], dtype=torch.uint8)"
            ]
          },
          "metadata": {
            "tags": []
          },
          "execution_count": 39
        }
      ]
    },
    {
      "cell_type": "code",
      "metadata": {
        "id": "NWV1xBS-WTPV"
      },
      "source": [
        "q_t = tensor(p)\r\n",
        "df = pd.DataFrame(q_t)\r\n",
        "df.style.set_properties(**{'font-size':'6pt'}).background_gradient('Greys')"
      ],
      "execution_count": null,
      "outputs": []
    },
    {
      "cell_type": "code",
      "metadata": {
        "colab": {
          "base_uri": "https://localhost:8080/"
        },
        "id": "P2x6CNosWq1C",
        "outputId": "6dc2f176-1465-4a4f-98f0-29e9996167b4"
      },
      "source": [
        "sevens\r\n"
      ],
      "execution_count": 46,
      "outputs": [
        {
          "output_type": "execute_result",
          "data": {
            "text/plain": [
              "(#6265) [Path('train/7/10002.png'),Path('train/7/1001.png'),Path('train/7/10014.png'),Path('train/7/10019.png'),Path('train/7/10039.png'),Path('train/7/10046.png'),Path('train/7/10050.png'),Path('train/7/10063.png'),Path('train/7/10077.png'),Path('train/7/10086.png')...]"
            ]
          },
          "metadata": {
            "tags": []
          },
          "execution_count": 46
        }
      ]
    },
    {
      "cell_type": "code",
      "metadata": {
        "colab": {
          "base_uri": "https://localhost:8080/"
        },
        "id": "B5zWde_uksyc",
        "outputId": "31388dba-6eba-45a2-9755-a7dbede853c7"
      },
      "source": [
        "seven_tensors = [tensor(Image.open(o)) for o in sevens]\r\n",
        "three_tensors = [tensor(Image.open(o)) for o in threes]\r\n",
        "len(seven_tensors),len(three_tensors)"
      ],
      "execution_count": 53,
      "outputs": [
        {
          "output_type": "execute_result",
          "data": {
            "text/plain": [
              "(6265, 6131)"
            ]
          },
          "metadata": {
            "tags": []
          },
          "execution_count": 53
        }
      ]
    },
    {
      "cell_type": "code",
      "metadata": {
        "colab": {
          "base_uri": "https://localhost:8080/"
        },
        "id": "t4ZIQyK7lTtz",
        "outputId": "81307960-bb6f-413a-8211-a07db08b633a"
      },
      "source": [
        "show_image(three_tensors[1])"
      ],
      "execution_count": 54,
      "outputs": [
        {
          "output_type": "execute_result",
          "data": {
            "text/plain": [
              "<matplotlib.axes._subplots.AxesSubplot at 0x7f742edd16d8>"
            ]
          },
          "metadata": {
            "tags": []
          },
          "execution_count": 54
        }
      ]
    },
    {
      "cell_type": "code",
      "metadata": {
        "colab": {
          "base_uri": "https://localhost:8080/"
        },
        "id": "ZbHYhrIYmQIz",
        "outputId": "63288db7-f31d-4907-d149-377d838c3aad"
      },
      "source": [
        "three_tensors[1].shape"
      ],
      "execution_count": 55,
      "outputs": [
        {
          "output_type": "execute_result",
          "data": {
            "text/plain": [
              "torch.Size([28, 28])"
            ]
          },
          "metadata": {
            "tags": []
          },
          "execution_count": 55
        }
      ]
    },
    {
      "cell_type": "code",
      "metadata": {
        "colab": {
          "base_uri": "https://localhost:8080/"
        },
        "id": "p-cyXlM8m0mk",
        "outputId": "491adb5c-23f7-4098-fb9b-75c7bec54742"
      },
      "source": [
        "type(three_tensors)\r\n"
      ],
      "execution_count": 56,
      "outputs": [
        {
          "output_type": "execute_result",
          "data": {
            "text/plain": [
              "list"
            ]
          },
          "metadata": {
            "tags": []
          },
          "execution_count": 56
        }
      ]
    },
    {
      "cell_type": "code",
      "metadata": {
        "colab": {
          "base_uri": "https://localhost:8080/"
        },
        "id": "z3OFPFivm7pW",
        "outputId": "2982cc07-65d9-4ef8-f5ec-e235cee1b3d7"
      },
      "source": [
        "stacked_sevens = torch.stack(seven_tensors).float()/255\r\n",
        "stacked_threes = torch.stack(three_tensors).float()/255\r\n",
        "stacked_threes.shape"
      ],
      "execution_count": 57,
      "outputs": [
        {
          "output_type": "execute_result",
          "data": {
            "text/plain": [
              "torch.Size([6131, 28, 28])"
            ]
          },
          "metadata": {
            "tags": []
          },
          "execution_count": 57
        }
      ]
    },
    {
      "cell_type": "code",
      "metadata": {
        "colab": {
          "base_uri": "https://localhost:8080/"
        },
        "id": "p8D1_1b3norH",
        "outputId": "604bb3bb-8eb5-4c27-9ff9-31ee68986f58"
      },
      "source": [
        "len(stacked_sevens.shape)\r\n"
      ],
      "execution_count": 59,
      "outputs": [
        {
          "output_type": "execute_result",
          "data": {
            "text/plain": [
              "3"
            ]
          },
          "metadata": {
            "tags": []
          },
          "execution_count": 59
        }
      ]
    },
    {
      "cell_type": "code",
      "metadata": {
        "colab": {
          "base_uri": "https://localhost:8080/"
        },
        "id": "J-IG2K3soP4u",
        "outputId": "f73136dc-41bc-4abf-b4a7-954f0c3f5c00"
      },
      "source": [
        "stacked_threes.ndim"
      ],
      "execution_count": 64,
      "outputs": [
        {
          "output_type": "execute_result",
          "data": {
            "text/plain": [
              "3"
            ]
          },
          "metadata": {
            "tags": []
          },
          "execution_count": 64
        }
      ]
    },
    {
      "cell_type": "code",
      "metadata": {
        "colab": {
          "base_uri": "https://localhost:8080/"
        },
        "id": "bNlIgzVyoXKE",
        "outputId": "b72ba240-ee67-4fa1-9d93-a41eaa7f4dff"
      },
      "source": [
        "stacked_sevens.mean()"
      ],
      "execution_count": 65,
      "outputs": [
        {
          "output_type": "execute_result",
          "data": {
            "text/plain": [
              "tensor(0.1145)"
            ]
          },
          "metadata": {
            "tags": []
          },
          "execution_count": 65
        }
      ]
    },
    {
      "cell_type": "code",
      "metadata": {
        "id": "GDG0biLspEC9"
      },
      "source": [
        "mean3 = stacked_threes.mean(0)\r\n",
        "mean7 = stacked_sevens.mean(0)"
      ],
      "execution_count": 88,
      "outputs": []
    },
    {
      "cell_type": "code",
      "metadata": {
        "colab": {
          "base_uri": "https://localhost:8080/"
        },
        "id": "OysWG--rpNga",
        "outputId": "39315ba0-915f-4f63-87c8-34db78d149a0"
      },
      "source": [
        "type(mean3)"
      ],
      "execution_count": 77,
      "outputs": [
        {
          "output_type": "execute_result",
          "data": {
            "text/plain": [
              "torch.Tensor"
            ]
          },
          "metadata": {
            "tags": []
          },
          "execution_count": 77
        }
      ]
    },
    {
      "cell_type": "code",
      "metadata": {
        "colab": {
          "base_uri": "https://localhost:8080/"
        },
        "id": "DseAOz_kslR4",
        "outputId": "a907c5ea-d9c5-410c-c302-cbb3ad5f4b32"
      },
      "source": [
        "mean3.shape"
      ],
      "execution_count": 81,
      "outputs": [
        {
          "output_type": "execute_result",
          "data": {
            "text/plain": [
              "torch.Size([28, 28])"
            ]
          },
          "metadata": {
            "tags": []
          },
          "execution_count": 81
        }
      ]
    },
    {
      "cell_type": "code",
      "metadata": {
        "id": "OM1gBhqwtJyM"
      },
      "source": [
        "di = pd.DataFrame(mean3)\r\n",
        "di.style.set_properties(**{'font-size':'6pt'}).background_gradient('Greys')"
      ],
      "execution_count": null,
      "outputs": []
    },
    {
      "cell_type": "code",
      "metadata": {
        "id": "EhHCx-3jtnoi"
      },
      "source": [
        "a_3 = stacked_threes[1]\r\n",
        "show_image(a_3);"
      ],
      "execution_count": 83,
      "outputs": []
    },
    {
      "cell_type": "code",
      "metadata": {
        "colab": {
          "base_uri": "https://localhost:8080/"
        },
        "id": "uGqQj3-muiI2",
        "outputId": "6ab75def-a491-4f46-8e93-abf563e70aa2"
      },
      "source": [
        "dist_3_abs = (a_3 - mean3).abs().mean()\r\n",
        "dist_3_sqr = ((a_3 - mean3)**2).mean().sqrt()\r\n",
        "dist_3_abs,dist_3_sqr"
      ],
      "execution_count": 89,
      "outputs": [
        {
          "output_type": "execute_result",
          "data": {
            "text/plain": [
              "(tensor(0.1114), tensor(0.2021))"
            ]
          },
          "metadata": {
            "tags": []
          },
          "execution_count": 89
        }
      ]
    },
    {
      "cell_type": "code",
      "metadata": {
        "colab": {
          "base_uri": "https://localhost:8080/"
        },
        "id": "PkMtmRO_unvw",
        "outputId": "eb33cffd-9e93-4110-f11e-f79796171de5"
      },
      "source": [
        "dist_7_abs = (a_3 - mean7).abs().mean()\r\n",
        "dist_7_sqr = ((a_3 - mean7)**2).mean().sqrt()\r\n",
        "dist_7_abs,dist_7_sqr"
      ],
      "execution_count": 90,
      "outputs": [
        {
          "output_type": "execute_result",
          "data": {
            "text/plain": [
              "(tensor(0.1586), tensor(0.3021))"
            ]
          },
          "metadata": {
            "tags": []
          },
          "execution_count": 90
        }
      ]
    },
    {
      "cell_type": "code",
      "metadata": {
        "colab": {
          "base_uri": "https://localhost:8080/"
        },
        "id": "aTfl5xqTuqHf",
        "outputId": "57cda4b2-b8b4-4110-c4b8-4027f8d8c163"
      },
      "source": [
        "F.l1_loss(a_3.float(),mean7),F.mse_loss(a_3,mean7).sqrt()"
      ],
      "execution_count": 91,
      "outputs": [
        {
          "output_type": "execute_result",
          "data": {
            "text/plain": [
              "(tensor(0.1586), tensor(0.3021))"
            ]
          },
          "metadata": {
            "tags": []
          },
          "execution_count": 91
        }
      ]
    },
    {
      "cell_type": "code",
      "metadata": {
        "id": "hn4dsAMYvwIn"
      },
      "source": [
        "valid_3_tens = torch.stack([tensor(Image.open(o)) for o in (path/'valid'/'3').ls()])\r\n",
        "valid_3_tens = valid_3_tens.float()/255\r\n",
        "valid_7_tens = torch.stack([tensor(Image.open(o)) for o in (path/'valid'/'7').ls()])\r\n",
        "valid_7_tens = valid_7_tens.float()/255"
      ],
      "execution_count": 92,
      "outputs": []
    },
    {
      "cell_type": "code",
      "metadata": {
        "colab": {
          "base_uri": "https://localhost:8080/"
        },
        "id": "NFN89gT_26o-",
        "outputId": "b2111056-0ead-4281-edc7-a739224a39f8"
      },
      "source": [
        "valid_3_tens.shape,valid_7_tens.shape"
      ],
      "execution_count": 93,
      "outputs": [
        {
          "output_type": "execute_result",
          "data": {
            "text/plain": [
              "(torch.Size([1010, 28, 28]), torch.Size([1028, 28, 28]))"
            ]
          },
          "metadata": {
            "tags": []
          },
          "execution_count": 93
        }
      ]
    },
    {
      "cell_type": "code",
      "metadata": {
        "id": "SlpF2jua3RYh"
      },
      "source": [
        "def mnist_distance(a,b): return (a-b).abs().mean((-1,-2))"
      ],
      "execution_count": 99,
      "outputs": []
    },
    {
      "cell_type": "code",
      "metadata": {
        "colab": {
          "base_uri": "https://localhost:8080/"
        },
        "id": "U6Q0bf-D4Q7U",
        "outputId": "81273e20-299a-4df3-a486-0b741864a3cd"
      },
      "source": [
        "t = mnist_distance(a_3,mean3)\r\n",
        "t"
      ],
      "execution_count": 100,
      "outputs": [
        {
          "output_type": "execute_result",
          "data": {
            "text/plain": [
              "tensor(0.1114)"
            ]
          },
          "metadata": {
            "tags": []
          },
          "execution_count": 100
        }
      ]
    },
    {
      "cell_type": "code",
      "metadata": {
        "colab": {
          "base_uri": "https://localhost:8080/"
        },
        "id": "4Qw2VRA04XyI",
        "outputId": "a56d37eb-a7ae-447e-9e2e-dcced440aaef"
      },
      "source": [
        "valid_3_dist = mnist_distance(valid_3_tens, mean3)\r\n",
        "valid_3_dist, valid_3_dist.shape"
      ],
      "execution_count": 101,
      "outputs": [
        {
          "output_type": "execute_result",
          "data": {
            "text/plain": [
              "(tensor([0.1471, 0.1136, 0.1289,  ..., 0.1058, 0.1413, 0.1206]),\n",
              " torch.Size([1010]))"
            ]
          },
          "metadata": {
            "tags": []
          },
          "execution_count": 101
        }
      ]
    },
    {
      "cell_type": "code",
      "metadata": {
        "id": "zsUQVWL16WqW"
      },
      "source": [
        "def is_3(x):return mnist_distance(x,mean3) < mnist_distance(x,mean7)"
      ],
      "execution_count": 102,
      "outputs": []
    },
    {
      "cell_type": "code",
      "metadata": {
        "colab": {
          "base_uri": "https://localhost:8080/"
        },
        "id": "F_xK5uKP7QA8",
        "outputId": "479d9ba1-cbf5-4d95-ab65-fedbdf1acc73"
      },
      "source": [
        "is_3(a_3),is_3(a_3).float()"
      ],
      "execution_count": 106,
      "outputs": [
        {
          "output_type": "execute_result",
          "data": {
            "text/plain": [
              "(tensor(True), tensor(1.))"
            ]
          },
          "metadata": {
            "tags": []
          },
          "execution_count": 106
        }
      ]
    },
    {
      "cell_type": "code",
      "metadata": {
        "colab": {
          "base_uri": "https://localhost:8080/"
        },
        "id": "i1Aw7a7r7YUx",
        "outputId": "cf5a6559-d555-47d7-bd59-25ffc68937ed"
      },
      "source": [
        "is_3(valid_3_tens)"
      ],
      "execution_count": 107,
      "outputs": [
        {
          "output_type": "execute_result",
          "data": {
            "text/plain": [
              "tensor([True, True, True,  ..., True, True, True])"
            ]
          },
          "metadata": {
            "tags": []
          },
          "execution_count": 107
        }
      ]
    },
    {
      "cell_type": "code",
      "metadata": {
        "colab": {
          "base_uri": "https://localhost:8080/"
        },
        "id": "R6B8kXGc7t55",
        "outputId": "f627146f-4d98-4009-898a-3640ff49061b"
      },
      "source": [
        "accuracy_3s = is_3(valid_3_tens).float().mean()\r\n",
        "accuracy_7s = (1-is_3(valid_7_tens).float()).mean()\r\n",
        "accuracy_3s,accuracy_7s,(accuracy_3s+accuracy_7s)/2"
      ],
      "execution_count": 109,
      "outputs": [
        {
          "output_type": "execute_result",
          "data": {
            "text/plain": [
              "(tensor(0.9168), tensor(0.9854), tensor(0.9511))"
            ]
          },
          "metadata": {
            "tags": []
          },
          "execution_count": 109
        }
      ]
    },
    {
      "cell_type": "code",
      "metadata": {
        "id": "EIRubHSZ8rRf"
      },
      "source": [
        ""
      ],
      "execution_count": null,
      "outputs": []
    }
  ]
}